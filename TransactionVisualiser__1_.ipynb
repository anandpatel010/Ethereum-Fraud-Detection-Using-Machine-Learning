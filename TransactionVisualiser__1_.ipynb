{
  "nbformat": 4,
  "nbformat_minor": 0,
  "metadata": {
    "colab": {
      "provenance": []
    },
    "kernelspec": {
      "name": "python3",
      "display_name": "Python 3"
    },
    "language_info": {
      "name": "python"
    }
  },
  "cells": [
    {
      "cell_type": "code",
      "source": [
        "!pip install requests pyvis"
      ],
      "metadata": {
        "colab": {
          "base_uri": "https://localhost:8080/"
        },
        "id": "6oSLFCL4DUwH",
        "outputId": "95a93374-9ee9-4a76-db34-34bc4d024191"
      },
      "execution_count": null,
      "outputs": [
        {
          "output_type": "stream",
          "name": "stdout",
          "text": [
            "Requirement already satisfied: requests in /usr/local/lib/python3.10/dist-packages (2.31.0)\n",
            "Collecting pyvis\n",
            "  Downloading pyvis-0.3.2-py3-none-any.whl (756 kB)\n",
            "\u001b[2K     \u001b[90m━━━━━━━━━━━━━━━━━━━━━━━━━━━━━━━━━━━━━━━━\u001b[0m \u001b[32m756.0/756.0 kB\u001b[0m \u001b[31m11.0 MB/s\u001b[0m eta \u001b[36m0:00:00\u001b[0m\n",
            "\u001b[?25hRequirement already satisfied: charset-normalizer<4,>=2 in /usr/local/lib/python3.10/dist-packages (from requests) (3.3.2)\n",
            "Requirement already satisfied: idna<4,>=2.5 in /usr/local/lib/python3.10/dist-packages (from requests) (3.6)\n",
            "Requirement already satisfied: urllib3<3,>=1.21.1 in /usr/local/lib/python3.10/dist-packages (from requests) (2.0.7)\n",
            "Requirement already satisfied: certifi>=2017.4.17 in /usr/local/lib/python3.10/dist-packages (from requests) (2024.2.2)\n",
            "Requirement already satisfied: ipython>=5.3.0 in /usr/local/lib/python3.10/dist-packages (from pyvis) (7.34.0)\n",
            "Requirement already satisfied: jinja2>=2.9.6 in /usr/local/lib/python3.10/dist-packages (from pyvis) (3.1.3)\n",
            "Requirement already satisfied: jsonpickle>=1.4.1 in /usr/local/lib/python3.10/dist-packages (from pyvis) (3.0.3)\n",
            "Requirement already satisfied: networkx>=1.11 in /usr/local/lib/python3.10/dist-packages (from pyvis) (3.3)\n",
            "Requirement already satisfied: setuptools>=18.5 in /usr/local/lib/python3.10/dist-packages (from ipython>=5.3.0->pyvis) (67.7.2)\n",
            "Collecting jedi>=0.16 (from ipython>=5.3.0->pyvis)\n",
            "  Downloading jedi-0.19.1-py2.py3-none-any.whl (1.6 MB)\n",
            "\u001b[2K     \u001b[90m━━━━━━━━━━━━━━━━━━━━━━━━━━━━━━━━━━━━━━━━\u001b[0m \u001b[32m1.6/1.6 MB\u001b[0m \u001b[31m49.8 MB/s\u001b[0m eta \u001b[36m0:00:00\u001b[0m\n",
            "\u001b[?25hRequirement already satisfied: decorator in /usr/local/lib/python3.10/dist-packages (from ipython>=5.3.0->pyvis) (4.4.2)\n",
            "Requirement already satisfied: pickleshare in /usr/local/lib/python3.10/dist-packages (from ipython>=5.3.0->pyvis) (0.7.5)\n",
            "Requirement already satisfied: traitlets>=4.2 in /usr/local/lib/python3.10/dist-packages (from ipython>=5.3.0->pyvis) (5.7.1)\n",
            "Requirement already satisfied: prompt-toolkit!=3.0.0,!=3.0.1,<3.1.0,>=2.0.0 in /usr/local/lib/python3.10/dist-packages (from ipython>=5.3.0->pyvis) (3.0.43)\n",
            "Requirement already satisfied: pygments in /usr/local/lib/python3.10/dist-packages (from ipython>=5.3.0->pyvis) (2.16.1)\n",
            "Requirement already satisfied: backcall in /usr/local/lib/python3.10/dist-packages (from ipython>=5.3.0->pyvis) (0.2.0)\n",
            "Requirement already satisfied: matplotlib-inline in /usr/local/lib/python3.10/dist-packages (from ipython>=5.3.0->pyvis) (0.1.6)\n",
            "Requirement already satisfied: pexpect>4.3 in /usr/local/lib/python3.10/dist-packages (from ipython>=5.3.0->pyvis) (4.9.0)\n",
            "Requirement already satisfied: MarkupSafe>=2.0 in /usr/local/lib/python3.10/dist-packages (from jinja2>=2.9.6->pyvis) (2.1.5)\n",
            "Requirement already satisfied: parso<0.9.0,>=0.8.3 in /usr/local/lib/python3.10/dist-packages (from jedi>=0.16->ipython>=5.3.0->pyvis) (0.8.4)\n",
            "Requirement already satisfied: ptyprocess>=0.5 in /usr/local/lib/python3.10/dist-packages (from pexpect>4.3->ipython>=5.3.0->pyvis) (0.7.0)\n",
            "Requirement already satisfied: wcwidth in /usr/local/lib/python3.10/dist-packages (from prompt-toolkit!=3.0.0,!=3.0.1,<3.1.0,>=2.0.0->ipython>=5.3.0->pyvis) (0.2.13)\n",
            "Installing collected packages: jedi, pyvis\n",
            "Successfully installed jedi-0.19.1 pyvis-0.3.2\n"
          ]
        }
      ]
    },
    {
      "cell_type": "code",
      "source": [
        "import requests\n",
        "from pyvis.network import Network\n",
        "import datetime\n",
        "import numpy as np\n",
        "\n",
        "ETHERSCAN_API_KEY = 'R82AC7Z4WQ6BDP5T92SEICH8U4VJ2DJUXS'\n",
        "\n",
        "ethereum_address = input(\"Please enter the Ethereum address: \")\n",
        "\n",
        "def get_transactions(address):\n",
        "    url = f\"https://api.etherscan.io/api?module=account&action=txlist&address={address}&startblock=0&endblock=99999999&sort=asc&apikey={ETHERSCAN_API_KEY}\"\n",
        "    response = requests.get(url)\n",
        "    if response.status_code == 200:\n",
        "        return response.json()['result']\n",
        "    else:\n",
        "        print(\"Error fetching transactions\")\n",
        "        return []\n",
        "\n",
        "\n",
        "transactions = get_transactions(ethereum_address)\n",
        "processed_transactions = process_transactions(transactions)\n",
        "\n",
        "# Heuristics to detect potential fraud\n",
        "def analyze_transactions_for_fraud(transactions):\n",
        "    timestamps = [tx[3] for tx in transactions]\n",
        "    values = [tx[4] for tx in transactions]\n",
        "    if timestamps:\n",
        "        # Calculate the average time between transactions\n",
        "        average_delta = np.mean(np.diff(sorted(timestamps))).total_seconds()\n",
        "        # Flag if the average time between transactions is suspiciously short\n",
        "        is_suspicious_timing = average_delta < 60  # less than a minute\n",
        "\n",
        "        # Identify large transactions\n",
        "        large_transactions = [tx for tx in transactions if tx[4] > 1]  # Over 50 Ether\n",
        "\n",
        "        # Check if address was active for a short time but with a high volume of transactions\n",
        "        active_period = (max(timestamps) - min(timestamps)).total_seconds()\n",
        "        is_short_lived = active_period < (24 * 60 * 60) and len(transactions) > 100  # Active less than a day but more than 100 transactions\n",
        "\n",
        "        fraud_indicators = {\n",
        "            'is_suspicious_timing': is_suspicious_timing,\n",
        "            'large_transactions': large_transactions,\n",
        "            'is_short_lived': is_short_lived,\n",
        "        }\n",
        "        return fraud_indicators\n",
        "    return {}\n",
        "\n",
        "fraud_analysis = analyze_transactions_for_fraud(processed_transactions)\n",
        "\n",
        "def create_interactive_graph(transactions, address, fraud_analysis):\n",
        "\n",
        "    net = Network(height=\"750px\", width=\"100%\", bgcolor=\"#222222\", font_color=\"white\", notebook=True, cdn_resources='remote')\n",
        "\n",
        "\n",
        "    for tx_hash, from_addr, to_addr, timestamp, value_ether in transactions:\n",
        "        title = f\"Hash: {tx_hash}\\nFrom: {from_addr}\\nTo: {to_addr}\\nTimestamp: {timestamp}\\nAmount: {value_ether} ETH\"\n",
        "        net.add_node(from_addr, title=from_addr, color='#dd4b39')\n",
        "        net.add_node(to_addr, title=to_addr)\n",
        "        net.add_edge(from_addr, to_addr, title=title, value=value_ether)\n",
        "\n",
        "    # Highlight large transactions with a different color or width\n",
        "    for tx in fraud_analysis.get('large_transactions', []):\n",
        "        title = f\"Large Transaction (Over 50 ETH)! Hash: {tx[0]}\\nFrom: {tx[1]}\\nTo: {tx[2]}\\nTimestamp: {tx[3]}\\nAmount: {tx[4]} ETH\"\n",
        "        net.add_edge(tx[1], tx[2], title=title, value=tx[4], color='red')\n",
        "\n",
        "\n",
        "    net.force_atlas_2based()\n",
        "    return net\n",
        "\n",
        "interactive_graph = create_interactive_graph(processed_transactions, ethereum_address, fraud_analysis)\n",
        "\n",
        "interactive_graph.show(\"ethereum_transactions.html\")\n"
      ],
      "metadata": {
        "id": "nNLIupKADToY",
        "colab": {
          "base_uri": "https://localhost:8080/",
          "height": 810
        },
        "outputId": "dd4ddc92-27d3-4b0d-ae20-de81b8ff2f83"
      },
      "execution_count": null,
      "outputs": [
        {
          "output_type": "stream",
          "name": "stdout",
          "text": [
            "Please enter the Ethereum address: 0xef57aa4b57587600fc209f345fe0a2687bc26985\n",
            "ethereum_transactions.html\n"
          ]
        },
        {
          "output_type": "execute_result",
          "data": {
            "text/plain": [
              "<IPython.lib.display.IFrame at 0x797cc197e530>"
            ],
            "text/html": [
              "\n",
              "        <iframe\n",
              "            width=\"100%\"\n",
              "            height=\"750px\"\n",
              "            src=\"ethereum_transactions.html\"\n",
              "            frameborder=\"0\"\n",
              "            allowfullscreen\n",
              "            \n",
              "        ></iframe>\n",
              "        "
            ]
          },
          "metadata": {},
          "execution_count": 20
        }
      ]
    },
    {
      "cell_type": "code",
      "source": [],
      "metadata": {
        "id": "G3NJenRnHRFa"
      },
      "execution_count": null,
      "outputs": []
    }
  ]
}